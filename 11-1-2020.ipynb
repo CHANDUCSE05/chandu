{
 "cells": [
  {
   "cell_type": "code",
   "execution_count": 2,
   "metadata": {},
   "outputs": [
    {
     "name": "stdout",
     "output_type": "stream",
     "text": [
      "12456789\n",
      "98765421\n",
      "Even numbers are: 2 4 6 8 \n",
      "Odd numbers are: 1579\n",
      " Sum of Even numbers are: 20\n",
      "\n",
      " Sum of Odd numbers are: 22\n",
      "\n",
      " Even digits Count: 4\n",
      "\n",
      " Odd digits Count: 4\n"
     ]
    }
   ],
   "source": [
    "n = int(input())\n",
    "r = k = es = od = ec = oc = 0\n",
    "while n!=0:\n",
    "    r = r*10+n%10\n",
    "    n = n//10\n",
    "print(r)\n",
    "odr=r\n",
    "print(\"Even numbers are: \",end=\"\")\n",
    "while r!=0:\n",
    "    m =r%10\n",
    "    if m%2==0:\n",
    "        print(m,end=\" \")\n",
    "        es+=m\n",
    "        ec+=1\n",
    "    r = r//10\n",
    "print(\"\\nOdd numbers are: \",end=\"\") \n",
    "while odr!=0:\n",
    "    ll = odr%10\n",
    "    if ll%2!=0:\n",
    "        print(ll,end=\"\")\n",
    "        od+=ll\n",
    "        oc+=1\n",
    "    odr=odr//10\n",
    "print(\"\\n Sum of Even numbers are: {}\".format(es))\n",
    "print(\"\\n Sum of Odd numbers are: {}\".format(od))\n",
    "print(\"\\n Even digits Count: {}\".format(ec))\n",
    "print(\"\\n Odd digits Count: {}\".format(oc))\n",
    "    "
   ]
  },
  {
   "cell_type": "markdown",
   "metadata": {},
   "source": [
    "# Inner loop\n",
    "      \n",
    "       -loop with in a loop"
   ]
  },
  {
   "cell_type": "code",
   "execution_count": 10,
   "metadata": {},
   "outputs": [
    {
     "name": "stdout",
     "output_type": "stream",
     "text": [
      "4\n",
      "****\n",
      "****\n",
      "****\n",
      "****\n"
     ]
    }
   ],
   "source": [
    "n=int(input())\n",
    "for i in range(1,n+1):\n",
    "    for j in range(1,n+1):\n",
    "        print(\"*\",end=\"\")\n",
    "    print(end=\"\\n\")"
   ]
  },
  {
   "cell_type": "code",
   "execution_count": 15,
   "metadata": {},
   "outputs": [
    {
     "name": "stdout",
     "output_type": "stream",
     "text": [
      "10\n",
      "*        *\n",
      " *      * \n",
      "  *    *  \n",
      "   *  *   \n",
      "    **    \n",
      "    **    \n",
      "   *  *   \n",
      "  *    *  \n",
      " *      * \n",
      "*        *\n"
     ]
    }
   ],
   "source": [
    "n=int(input())\n",
    "for i in range(1,n+1):\n",
    "    for j in range(1,n+1):\n",
    "        if i == j or i+j == n+1:\n",
    "            print(\"*\",end=\"\")\n",
    "        else:\n",
    "            print(\" \",end=\"\")\n",
    "    print(end=\"\\n\")"
   ]
  },
  {
   "cell_type": "code",
   "execution_count": 17,
   "metadata": {},
   "outputs": [
    {
     "name": "stdout",
     "output_type": "stream",
     "text": [
      "10\n",
      "**********\n",
      "*        *\n",
      "*        *\n",
      "*        *\n",
      "*        *\n",
      "*        *\n",
      "*        *\n",
      "*        *\n",
      "*        *\n",
      "**********\n"
     ]
    }
   ],
   "source": [
    "n=int(input())\n",
    "for i in range(1,n+1):\n",
    "    for j in range(1,n+1):\n",
    "        if i ==1 or i ==n or j == 1 or j == n:\n",
    "            print(\"*\",end=\"\")\n",
    "        else:\n",
    "            print(\" \",end=\"\")\n",
    "    print(end=\"\\n\")"
   ]
  },
  {
   "cell_type": "code",
   "execution_count": 18,
   "metadata": {},
   "outputs": [
    {
     "name": "stdout",
     "output_type": "stream",
     "text": [
      "10\n",
      "01 02 03 04 05 06 07 08 09 10 \n",
      "11 12 13 14 15 16 17 18 19 20 \n",
      "21 22 23 24 25 26 27 28 29 30 \n",
      "31 32 33 34 35 36 37 38 39 40 \n",
      "41 42 43 44 45 46 47 48 49 50 \n",
      "51 52 53 54 55 56 57 58 59 60 \n",
      "61 62 63 64 65 66 67 68 69 70 \n",
      "71 72 73 74 75 76 77 78 79 80 \n",
      "81 82 83 84 85 86 87 88 89 90 \n",
      "91 92 93 94 95 96 97 98 99 100 \n"
     ]
    }
   ],
   "source": [
    "n=int(input())\n",
    "k=0\n",
    "for r in range(1,n+1):\n",
    "    for c in range(1,n+1):\n",
    "        print(\"{:02}\".format(k+1),end=\" \")\n",
    "        k+=1\n",
    "    print(end=\"\\n\")"
   ]
  },
  {
   "cell_type": "markdown",
   "metadata": {},
   "source": [
    "# Jumping Statements:\n",
    "\n",
    "         - continue -> skip single value and print"
   ]
  },
  {
   "cell_type": "markdown",
   "metadata": {},
   "source": [
    "# Functions:\n",
    "\n",
    "        -To perform a specific tasks\n",
    "        - predefined -> "
   ]
  },
  {
   "cell_type": "markdown",
   "metadata": {},
   "source": [
    "# strings :\n",
    " \n",
    "             ->Slicing , indexeed based , changes can be done "
   ]
  },
  {
   "cell_type": "code",
   "execution_count": 8,
   "metadata": {},
   "outputs": [
    {
     "name": "stdout",
     "output_type": "stream",
     "text": [
      "Python Program <class 'str'>\n",
      "P\n",
      "t\n",
      "Python\n",
      "n P\n",
      "Python P\n",
      "n Program\n"
     ]
    }
   ],
   "source": [
    "s= \"Python Program\"\n",
    "print(s,type(s))\n",
    "print(s[0])\n",
    "print(s[2])\n",
    "print(s[0:6])\n",
    "print(s[5:8])\n",
    "print(s[:8])\n",
    "print(s[5:])"
   ]
  },
  {
   "cell_type": "code",
   "execution_count": 14,
   "metadata": {},
   "outputs": [
    {
     "name": "stdout",
     "output_type": "stream",
     "text": [
      "ho r\n",
      "oPnt\n",
      "m\n",
      "rg\n",
      "agr\n",
      "orP nothyP\n"
     ]
    }
   ],
   "source": [
    "s=\"Pyhton Program\"\n",
    "print(s[2:9:2])\n",
    "print(s[9:2:-2])\n",
    "print(s[-1])\n",
    "print(s[-3:-5:-1])\n",
    "print(s[-2:-8:-2])\n",
    "print(s[-5::-1])"
   ]
  },
  {
   "cell_type": "code",
   "execution_count": 15,
   "metadata": {},
   "outputs": [
    {
     "name": "stdout",
     "output_type": "stream",
     "text": [
      "14\n",
      "program\n"
     ]
    }
   ],
   "source": [
    "s=\"python program\"\n",
    "print(len(s))\n",
    "print(s[len(s)//2:])"
   ]
  },
  {
   "cell_type": "code",
   "execution_count": 16,
   "metadata": {},
   "outputs": [
    {
     "name": "stdout",
     "output_type": "stream",
     "text": [
      "['__add__', '__class__', '__contains__', '__delattr__', '__dir__', '__doc__', '__eq__', '__format__', '__ge__', '__getattribute__', '__getitem__', '__getnewargs__', '__gt__', '__hash__', '__init__', '__init_subclass__', '__iter__', '__le__', '__len__', '__lt__', '__mod__', '__mul__', '__ne__', '__new__', '__reduce__', '__reduce_ex__', '__repr__', '__rmod__', '__rmul__', '__setattr__', '__sizeof__', '__str__', '__subclasshook__', 'capitalize', 'casefold', 'center', 'count', 'encode', 'endswith', 'expandtabs', 'find', 'format', 'format_map', 'index', 'isalnum', 'isalpha', 'isascii', 'isdecimal', 'isdigit', 'isidentifier', 'islower', 'isnumeric', 'isprintable', 'isspace', 'istitle', 'isupper', 'join', 'ljust', 'lower', 'lstrip', 'maketrans', 'partition', 'replace', 'rfind', 'rindex', 'rjust', 'rpartition', 'rsplit', 'rstrip', 'split', 'splitlines', 'startswith', 'strip', 'swapcase', 'title', 'translate', 'upper', 'zfill']\n"
     ]
    }
   ],
   "source": [
    "print(dir(str))"
   ]
  },
  {
   "cell_type": "code",
   "execution_count": 22,
   "metadata": {},
   "outputs": [
    {
     "name": "stdout",
     "output_type": "stream",
     "text": [
      "Python program\n",
      "Python Program\n",
      "python program\n",
      "1\n",
      "PyTHON pRoGrAm\n",
      "pYthon PrOgRaM\n"
     ]
    }
   ],
   "source": [
    "ss = \"pYthon PrOgRaM\"\n",
    "print(ss. capitalize())\n",
    "print(ss. title())\n",
    "print(ss. casefold())\n",
    "print(ss. count('p'))\n",
    "print(ss. swapcase())\n",
    "print(ss. center(2))"
   ]
  },
  {
   "cell_type": "code",
   "execution_count": 27,
   "metadata": {},
   "outputs": [
    {
     "name": "stdout",
     "output_type": "stream",
     "text": [
      "True\n",
      "False\n",
      "-1\n",
      "0\n"
     ]
    }
   ],
   "source": [
    "ss = \"pYthon PrOgRaM\"\n",
    "print(ss. endswith('M'))\n",
    "print(ss. startswith('z'))\n",
    "print(ss. find('z'))\n",
    "print(ss. index('p'))"
   ]
  },
  {
   "cell_type": "code",
   "execution_count": 33,
   "metadata": {},
   "outputs": [
    {
     "name": "stdout",
     "output_type": "stream",
     "text": [
      "True\n",
      "True\n",
      "True\n",
      "True\n",
      "True\n"
     ]
    }
   ],
   "source": [
    "s='wei2342'\n",
    "print(s. isalnum())\n",
    "d='dsbbfjgsf'\n",
    "print(d. isalpha())\n",
    "e='1'\n",
    "print(e. isascii())\n",
    "h='3443546'\n",
    "print(h. isdecimal())\n",
    "i='3214668779'\n",
    "print(i. isdigit())"
   ]
  },
  {
   "cell_type": "code",
   "execution_count": 1,
   "metadata": {},
   "outputs": [
    {
     "name": "stdout",
     "output_type": "stream",
     "text": [
      "True\n",
      "True\n",
      "True\n",
      "True\n",
      "True\n"
     ]
    }
   ],
   "source": [
    "g='A'\n",
    "print(g. isidentifier())\n",
    "k='gfdrf'\n",
    "print(k. islower())\n",
    "m='ASDFGHJ'\n",
    "print(m. isupper())\n",
    "dd='752952152'\n",
    "print(dd. isnumeric())\n",
    "sp=' '\n",
    "print(sp. isspace())\n"
   ]
  },
  {
   "cell_type": "code",
   "execution_count": 3,
   "metadata": {},
   "outputs": [
    {
     "name": "stdout",
     "output_type": "stream",
     "text": [
      "w@o@r@k@s@h@o@p\n",
      "p#y#t#h#o#n\n"
     ]
    }
   ],
   "source": [
    "d= \"python\"\n",
    "g=\"workshop\"\n",
    "print(\"@\".join(g))\n",
    "print(\"#\".join(d))"
   ]
  },
  {
   "cell_type": "code",
   "execution_count": null,
   "metadata": {},
   "outputs": [],
   "source": []
  }
 ],
 "metadata": {
  "kernelspec": {
   "display_name": "Python 3",
   "language": "python",
   "name": "python3"
  },
  "language_info": {
   "codemirror_mode": {
    "name": "ipython",
    "version": 3
   },
   "file_extension": ".py",
   "mimetype": "text/x-python",
   "name": "python",
   "nbconvert_exporter": "python",
   "pygments_lexer": "ipython3",
   "version": "3.7.3"
  }
 },
 "nbformat": 4,
 "nbformat_minor": 2
}
