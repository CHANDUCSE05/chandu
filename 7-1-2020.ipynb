{
 "cells": [
  {
   "cell_type": "markdown",
   "metadata": {},
   "source": [
    "# Python Basics:"
   ]
  },
  {
   "cell_type": "markdown",
   "metadata": {},
   "source": [
    "### Data Types: \n",
    "           \n",
    "     -Int -> Numberic Formate of data\n",
    "     -Float -> Decimal values \n",
    "     -String->\" or \"\n",
    "     -Complex->Real and imaginary part"
   ]
  },
  {
   "cell_type": "markdown",
   "metadata": {},
   "source": [
    "# Variable:\n",
    "\n",
    "            -The stores the data "
   ]
  },
  {
   "cell_type": "code",
   "execution_count": 1,
   "metadata": {},
   "outputs": [
    {
     "data": {
      "text/plain": [
       "10"
      ]
     },
     "execution_count": 1,
     "metadata": {},
     "output_type": "execute_result"
    }
   ],
   "source": [
    "a=10\n",
    "a"
   ]
  },
  {
   "cell_type": "code",
   "execution_count": 2,
   "metadata": {},
   "outputs": [],
   "source": [
    "a=100\n",
    "b=30"
   ]
  },
  {
   "cell_type": "code",
   "execution_count": 3,
   "metadata": {},
   "outputs": [
    {
     "data": {
      "text/plain": [
       "(100, 30)"
      ]
     },
     "execution_count": 3,
     "metadata": {},
     "output_type": "execute_result"
    }
   ],
   "source": [
    "(a,b)"
   ]
  },
  {
   "cell_type": "code",
   "execution_count": 4,
   "metadata": {},
   "outputs": [
    {
     "name": "stdout",
     "output_type": "stream",
     "text": [
      "100\n",
      "30\n"
     ]
    }
   ],
   "source": [
    "print(a)\n",
    "print(b)"
   ]
  },
  {
   "cell_type": "markdown",
   "metadata": {},
   "source": [
    "# Type:"
   ]
  },
  {
   "cell_type": "code",
   "execution_count": 5,
   "metadata": {},
   "outputs": [
    {
     "name": "stdout",
     "output_type": "stream",
     "text": [
      "<class 'int'> <class 'int'>\n"
     ]
    }
   ],
   "source": [
    "type(a)\n",
    "print(type(a),type(b))"
   ]
  },
  {
   "cell_type": "code",
   "execution_count": 8,
   "metadata": {},
   "outputs": [
    {
     "name": "stdout",
     "output_type": "stream",
     "text": [
      "rajesh <class 'str'>\n",
      "25.0 <class 'float'>\n",
      "True <class 'bool'>\n",
      "235.15645 <class 'str'>\n",
      "545 <class 'str'>\n"
     ]
    }
   ],
   "source": [
    "c= 'rajesh'\n",
    "d= 25.00\n",
    "e= True\n",
    "g='235.15645'\n",
    "h='545'\n",
    "print(c,type(c))\n",
    "print(d,type(d))\n",
    "print(e,type(e))\n",
    "print(g,type(g))\n",
    "print(h,type(h))"
   ]
  },
  {
   "cell_type": "markdown",
   "metadata": {},
   "source": [
    "### Variable assignments:"
   ]
  },
  {
   "cell_type": "code",
   "execution_count": 10,
   "metadata": {},
   "outputs": [
    {
     "name": "stdout",
     "output_type": "stream",
     "text": [
      "23 <class 'int'>\n",
      "13.0 <class 'float'>\n",
      "raju <class 'str'>\n",
      "False <class 'bool'>\n"
     ]
    }
   ],
   "source": [
    "a,h,l,y=23,13.000,'raju',False\n",
    "print(a,type(a))\n",
    "print(h,type(h))\n",
    "print(l,type(l))\n",
    "print(y,type(y))"
   ]
  },
  {
   "cell_type": "code",
   "execution_count": 11,
   "metadata": {},
   "outputs": [
    {
     "name": "stdout",
     "output_type": "stream",
     "text": [
      "520 520 520\n"
     ]
    }
   ],
   "source": [
    "g = i = l = 520\n",
    "print(g,i,l)"
   ]
  },
  {
   "cell_type": "markdown",
   "metadata": {},
   "source": [
    "### Dynamic Way of type casting values "
   ]
  },
  {
   "cell_type": "code",
   "execution_count": 16,
   "metadata": {},
   "outputs": [
    {
     "name": "stdout",
     "output_type": "stream",
     "text": [
      "Enter a value:2\n",
      "2 <class 'str'>\n",
      "2 <class 'int'>\n"
     ]
    }
   ],
   "source": [
    "k=input(\"Enter a value:\")\n",
    "print(k,type(k))\n",
    "print(int(k),type(int(k)))"
   ]
  },
  {
   "cell_type": "code",
   "execution_count": 17,
   "metadata": {},
   "outputs": [
    {
     "name": "stdout",
     "output_type": "stream",
     "text": [
      "Enter a value:23.2\n",
      "23.2 <class 'str'>\n",
      "23.2 <class 'float'>\n"
     ]
    }
   ],
   "source": [
    "k=input(\"Enter a value:\")\n",
    "print(k,type(k))\n",
    "print(float(k),type(float(k)))"
   ]
  },
  {
   "cell_type": "code",
   "execution_count": 18,
   "metadata": {},
   "outputs": [
    {
     "name": "stdout",
     "output_type": "stream",
     "text": [
      "45645\n",
      "45645 <class 'int'>\n"
     ]
    }
   ],
   "source": [
    "p=int(input())\n",
    "print(p,type(p))"
   ]
  },
  {
   "cell_type": "code",
   "execution_count": null,
   "metadata": {},
   "outputs": [],
   "source": [
    "Input : 32.56\n",
    "        23.45\n",
    "        \n",
    "Output: Given numbers are 32.56 and 23.45\n",
    "        Type casting of values to integers are 32 and 23\n",
    "        Type casting of values to string are '32' and '23'\n",
    "        "
   ]
  },
  {
   "cell_type": "code",
   "execution_count": 24,
   "metadata": {},
   "outputs": [
    {
     "name": "stdout",
     "output_type": "stream",
     "text": [
      "235.33\n",
      "2563.32\n",
      "Given numbers are 235.33 and 2563.32\n",
      "Type casting of values to integers are 235 and 2563\n",
      "Type casting of values to strings are'235'and'2563'\n"
     ]
    }
   ],
   "source": [
    "a=float(input())\n",
    "b=float(input())\n",
    "print(\"Given numbers are\",a,\"and\",b)\n",
    "print(\"Type casting of values to integers are\",int(a),\"and\",int(b))\n",
    "print(\"Type casting of values to strings are'\"+str(int(a))+\"'and'\"+str(int(b))+\"'\")"
   ]
  },
  {
   "cell_type": "markdown",
   "metadata": {},
   "source": [
    "# OPerators:\n",
    " \n",
    "       - Arithmetic -> +,-,*,/,%,//,**\n",
    "       - Relational -> <,>,>=,<=,!=,==\n",
    "       - Assignment -> +=,-=,*=,/=,%=\n",
    "       - Logical -> AND,OR,NOT\n",
    "       - Bitwise -> &,|,~,>>,<<\n",
    "       - Identity -> is, is not\n",
    "       - Membership -> in,not in"
   ]
  },
  {
   "cell_type": "code",
   "execution_count": 8,
   "metadata": {},
   "outputs": [
    {
     "name": "stdout",
     "output_type": "stream",
     "text": [
      "2\n",
      "3\n",
      "Square of  2 is: 4\n",
      "Cube of  2 is: 8\n",
      "Addition of  2 and 3 is: 5\n",
      "difference of  2 and 3 is: -1\n",
      "Multiplecation of  2 and 3 is: 6\n",
      "Division of  2 and 3 is: 0.6666666666666666\n",
      "Floor of  2 and 3 is: 0.0\n",
      "power of  2 and 3 is: 8.0\n",
      "Equation 2x^3+5y^2+6 and its value is: 67.0\n"
     ]
    }
   ],
   "source": [
    "a=float(input())\n",
    "b=float(input())\n",
    "#c=float(input())\n",
    "print(\"Square of \",int(a),\"is:\",int(a**2))\n",
    "print(\"Cube of \",int(a),\"is:\",int(a**3))\n",
    "print(\"Addition of \",int(a),\"and\",int(b),\"is:\",int(a+b))\n",
    "print(\"difference of \",int(a),\"and\",int(b),\"is:\",int(a-b))\n",
    "print(\"Multiplecation of \",int(a),\"and\",int(b),\"is:\",int(a*b))\n",
    "print(\"Division of \",int(a),\"and\",int(b),\"is:\",(a/b))\n",
    "print(\"Floor of \",int(a),\"and\",int(b),\"is:\",(a//b))\n",
    "print(\"power of \",int(a),\"and\",int(b),\"is:\",(a**b))\n",
    "print(\"Equation 2x^3+5y^2+6 and its value is:\",2*(int(a)**3)+5*(b**2)+6)"
   ]
  },
  {
   "cell_type": "code",
   "execution_count": null,
   "metadata": {},
   "outputs": [],
   "source": []
  }
 ],
 "metadata": {
  "kernelspec": {
   "display_name": "Python 3",
   "language": "python",
   "name": "python3"
  },
  "language_info": {
   "codemirror_mode": {
    "name": "ipython",
    "version": 3
   },
   "file_extension": ".py",
   "mimetype": "text/x-python",
   "name": "python",
   "nbconvert_exporter": "python",
   "pygments_lexer": "ipython3",
   "version": "3.7.3"
  }
 },
 "nbformat": 4,
 "nbformat_minor": 2
}
