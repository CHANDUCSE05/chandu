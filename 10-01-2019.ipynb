{
 "cells": [
  {
   "cell_type": "markdown",
   "metadata": {},
   "source": [
    "# Output Formatting :\n",
    "\n",
    "    -%\n",
    "    -.format"
   ]
  },
  {
   "cell_type": "code",
   "execution_count": 1,
   "metadata": {},
   "outputs": [
    {
     "name": "stdout",
     "output_type": "stream",
     "text": [
      "a value is 20\n"
     ]
    }
   ],
   "source": [
    "a=20\n",
    "print(\"a value is %d\"%a)"
   ]
  },
  {
   "cell_type": "code",
   "execution_count": 2,
   "metadata": {},
   "outputs": [
    {
     "name": "stdout",
     "output_type": "stream",
     "text": [
      "a value is 20 and b value is 30\n"
     ]
    }
   ],
   "source": [
    "a=20\n",
    "b=30\n",
    "print(\"a value is %d and b value is %d\"%(a,b))"
   ]
  },
  {
   "cell_type": "code",
   "execution_count": 3,
   "metadata": {},
   "outputs": [
    {
     "name": "stdout",
     "output_type": "stream",
     "text": [
      "a value is 20\n"
     ]
    }
   ],
   "source": [
    "print(\"a value is {}\".format(a))"
   ]
  },
  {
   "cell_type": "code",
   "execution_count": 4,
   "metadata": {},
   "outputs": [
    {
     "name": "stdout",
     "output_type": "stream",
     "text": [
      "a value is 30 and b value is 20\n"
     ]
    }
   ],
   "source": [
    "print(\"a value is {1} and b value is {0}\".format(a,b))"
   ]
  },
  {
   "cell_type": "code",
   "execution_count": 12,
   "metadata": {},
   "outputs": [
    {
     "name": "stdout",
     "output_type": "stream",
     "text": [
      "2\n",
      "3\n",
      "square of 2 is: 4\n",
      "cube of 2 is: 8\n",
      "Addition of 2 and 3 is: 5\n",
      "difference of 2 and 3 is: -1\n",
      "Multiplecation of 2 and 3 is: 6\n",
      "Base of 2 and exponent 3 power is: 8\n",
      "Equation of 2x^3+5y^2+6 and its value is: 67.0\n"
     ]
    }
   ],
   "source": [
    "k=float(input())\n",
    "m=float(input())\n",
    "print(\"square of {} is: {}\".format(int(k),int(k*k)))\n",
    "print(\"cube of {} is: {}\".format(int(k),int(k*k*k)))\n",
    "print(\"Addition of {} and {} is: {}\".format(int(k),int(m),int(k+m)))\n",
    "print(\"difference of {} and {} is: {}\".format(int(k),int(m),int(k-m)))\n",
    "print(\"Multiplecation of {} and {} is: {}\".format(int(k),int(m),int(k*m)))\n",
    "print(\"Base of {} and exponent {} power is: {}\".format(int(k),int(m),int(k**m)))\n",
    "print(\"Equation of 2x^3+5y^2+6 and its value is: {}\".format(2*(int(k)**3)+5*(m**2)+6))"
   ]
  },
  {
   "cell_type": "markdown",
   "metadata": {},
   "source": [
    "# Conditional Statements\n",
    "\n",
    "        -To check whether given condition is True or False\n",
    "        \n",
    "        -if ->Single case\n",
    "        -if-else ->\n",
    "        -if-elselader ->\n",
    "        nested-if-else ->"
   ]
  },
  {
   "cell_type": "markdown",
   "metadata": {},
   "source": [
    "# if\n",
    "    syntax:\n",
    "           if(condition):\n",
    "              //stmnt1\n",
    "# ifelse\n",
    "    syntax:\n",
    "            if(condition):\n",
    "                //stmnt\n",
    "             else\n",
    "                 //stmnt\n",
    "# nested if else\n",
    "    syntax:\n",
    "            if(condition1):\n",
    "                if(condition2):\n",
    "                    //stmnt1\n",
    "                    else\n",
    "                        //stmnt2\n",
    "                    else\n",
    "                        //stmntn\n",
    "# elif\n",
    "        syntax:\n",
    "                if(condition1):\n",
    "                    //stmnt-1\n",
    "                elif(condition2):\n",
    "                    //stmnt-2\n",
    "                elif(condition3):\n",
    "                    //stmnt-3\n",
    "                |             |\n",
    "                |             |\n",
    "                else:\n",
    "                    //stmnt-n\n",
    "\n",
    "                "
   ]
  },
  {
   "cell_type": "code",
   "execution_count": 18,
   "metadata": {},
   "outputs": [
    {
     "name": "stdout",
     "output_type": "stream",
     "text": [
      "0\n",
      "n Value is: 0\n"
     ]
    }
   ],
   "source": [
    "n= int(input())\n",
    "if n==0:\n",
    "    print(\"n Value is: {}\".format(n))"
   ]
  },
  {
   "cell_type": "code",
   "execution_count": 19,
   "metadata": {},
   "outputs": [
    {
     "name": "stdout",
     "output_type": "stream",
     "text": [
      "2\n",
      "M Value is 2 and it is positive\n"
     ]
    }
   ],
   "source": [
    "m= int(input())\n",
    "if m>0:\n",
    "    print(\"M Value is {} and it is positive\".format(m))\n",
    "else:\n",
    "    print(\"M Value is {} and it is negative\".format(m))\n",
    "    "
   ]
  },
  {
   "cell_type": "code",
   "execution_count": 34,
   "metadata": {},
   "outputs": [
    {
     "name": "stdout",
     "output_type": "stream",
     "text": [
      "234\n",
      "222\n",
      "Userid 234 or password is incorrect\n"
     ]
    }
   ],
   "source": [
    "uid=int(input())\n",
    "pin=int(input())\n",
    "if uid==234 and pin==1234:\n",
    "        print(\"Wellcome userid{}\".format(uid))\n",
    "else:\n",
    "    print(\"Userid {} or password is incorrect\".format(uid))\n"
   ]
  },
  {
   "cell_type": "code",
   "execution_count": 41,
   "metadata": {},
   "outputs": [
    {
     "name": "stdout",
     "output_type": "stream",
     "text": [
      "234\n",
      "1222\n",
      "userid 234 or password is incorrect\n"
     ]
    }
   ],
   "source": [
    "uid=int(input())\n",
    "pin=int(input())\n",
    "m=userid\n",
    "n=pin\n",
    "if m==234 and n==1234:\n",
    "    print(\"Wellcome userid %d\"%m)\n",
    "else:\n",
    "    print(\"userid %d or password is incorrect\"%m)"
   ]
  },
  {
   "cell_type": "code",
   "execution_count": 50,
   "metadata": {},
   "outputs": [
    {
     "name": "stdout",
     "output_type": "stream",
     "text": [
      "234\n",
      "100\n",
      "invalid userid 234 \n"
     ]
    }
   ],
   "source": [
    "uid=int(input())\n",
    "pin=int(input())\n",
    "m=uid\n",
    "n=pin\n",
    "if m==123 and n==100:\n",
    "    print(\"Wellcome userid %d\"%m)\n",
    "    if m==123 and n !=100:\n",
    "        print(\"invalid pasword %d \"%n)\n",
    "        if m!=123 and n==100:\n",
    "        print(\"invalid pasword %d \"%n)"
   ]
  },
  {
   "cell_type": "code",
   "execution_count": 58,
   "metadata": {},
   "outputs": [
    {
     "name": "stdout",
     "output_type": "stream",
     "text": [
      "123\n",
      "100\n",
      "Wellcome userid 123\n"
     ]
    }
   ],
   "source": [
    "uid=int(input())\n",
    "if uid==123:\n",
    "    pin=int(input())\n",
    "    if pin==100:\n",
    "            print(\"Wellcome userid %d\"%uid)\n",
    "    else:\n",
    "        print(\"invalid pasword %d \"%pin)\n",
    "else:\n",
    "    print(\"invalid userid %d \"%uid)"
   ]
  },
  {
   "cell_type": "code",
   "execution_count": 61,
   "metadata": {},
   "outputs": [
    {
     "name": "stdout",
     "output_type": "stream",
     "text": [
      "2\n",
      "2 is divisible by 2\n"
     ]
    }
   ],
   "source": [
    "n= int(input())\n",
    "if n%3==0 and n%5==0:\n",
    "    print(\"{} is divide by 3 and 5 \".format(n))\n",
    "elif n%3==0:\n",
    "    print(\"{} is divisible by 3\".format(n))\n",
    "elif n%2==0:\n",
    "    print(\"{} is divisible by 2\".format(n))\n",
    "else:\n",
    "    print(\"Given number is{}\".format(n))"
   ]
  },
  {
   "cell_type": "markdown",
   "metadata": {},
   "source": [
    "# Control Statements, Iterations,  Loops, Repetitions:"
   ]
  },
  {
   "cell_type": "markdown",
   "metadata": {},
   "source": [
    " -To control the flow of exection \n",
    " \n",
    "  - For-> Particular range\n",
    "  - While-> infinite loop, it works like for also"
   ]
  },
  {
   "cell_type": "markdown",
   "metadata": {},
   "source": [
    "## For \n",
    "```        syntax:\n",
    "               for itervar in range(start,stop,step):\n",
    "                  //stmnt\n",
    "                 \n",
    "                range(10) -> 0 - 9\n",
    "                range(1 - 10) -> 1 - 9\n",
    "                range(10,50,10) -> 10 , 20 , 30 , 40\n",
    "     ```"
   ]
  },
  {
   "cell_type": "code",
   "execution_count": 65,
   "metadata": {},
   "outputs": [
    {
     "name": "stdout",
     "output_type": "stream",
     "text": [
      "5\n",
      "0,1,2,3,4,5,"
     ]
    }
   ],
   "source": [
    "n=int(input())\n",
    "for it in range(n+1):\n",
    "    print(it,end=\",\")"
   ]
  },
  {
   "cell_type": "code",
   "execution_count": 66,
   "metadata": {},
   "outputs": [
    {
     "name": "stdout",
     "output_type": "stream",
     "text": [
      "5\n",
      "1,2,3,4,5,6,"
     ]
    }
   ],
   "source": [
    "n=int(input())\n",
    "for it in range(n+1):\n",
    "    print(it+1,end=\",\")"
   ]
  },
  {
   "cell_type": "code",
   "execution_count": 67,
   "metadata": {},
   "outputs": [
    {
     "name": "stdout",
     "output_type": "stream",
     "text": [
      "5\n",
      "0,1,2,3,4,"
     ]
    }
   ],
   "source": [
    "n=int(input())\n",
    "for it in range(n):\n",
    "    print(it,end=\",\")"
   ]
  },
  {
   "cell_type": "code",
   "execution_count": 70,
   "metadata": {},
   "outputs": [
    {
     "name": "stdout",
     "output_type": "stream",
     "text": [
      "25\n",
      "50\n",
      "25,26,27,28,29,30,31,32,33,34,35,36,37,38,39,40,41,42,43,44,45,46,47,48,49,"
     ]
    }
   ],
   "source": [
    "k=int(input())\n",
    "m=int(input())\n",
    "for nn in range(k,m):\n",
    "    print(nn,end=\",\")"
   ]
  },
  {
   "cell_type": "code",
   "execution_count": 90,
   "metadata": {},
   "outputs": [
    {
     "name": "stdout",
     "output_type": "stream",
     "text": [
      "10\n",
      "20\n",
      "1\n",
      "10,11,12,13,14,15,16,17,18,19,"
     ]
    }
   ],
   "source": [
    "k=int(input())\n",
    "m=int(input())\n",
    "s=int(input())\n",
    "for nn in range(k,m,s):\n",
    "    print(nn,end=\",\")"
   ]
  },
  {
   "cell_type": "code",
   "execution_count": 92,
   "metadata": {},
   "outputs": [
    {
     "name": "stdout",
     "output_type": "stream",
     "text": [
      "501\n",
      "560\n",
      "174M1A0501\n",
      "174M1A0502\n",
      "174M1A0503\n",
      "174M1A0504\n",
      "174M1A0505\n",
      "174M1A0506\n",
      "174M1A0507\n",
      "174M1A0508\n",
      "174M1A0509\n",
      "174M1A0510\n",
      "174M1A0511\n",
      "174M1A0512\n",
      "174M1A0513\n",
      "174M1A0514\n",
      "174M1A0515\n",
      "174M1A0516\n",
      "174M1A0517\n",
      "174M1A0518\n",
      "174M1A0519\n",
      "174M1A0520\n",
      "174M1A0521\n",
      "174M1A0522\n",
      "174M1A0523\n",
      "174M1A0524\n",
      "174M1A0525\n",
      "174M1A0526\n",
      "174M1A0527\n",
      "174M1A0528\n",
      "174M1A0529\n",
      "174M1A0530\n",
      "174M1A0531\n",
      "174M1A0532\n",
      "174M1A0533\n",
      "174M1A0534\n",
      "174M1A0535\n",
      "174M1A0536\n",
      "174M1A0537\n",
      "174M1A0538\n",
      "174M1A0539\n",
      "174M1A0540\n",
      "174M1A0541\n",
      "174M1A0542\n",
      "174M1A0543\n",
      "174M1A0544\n",
      "174M1A0545\n",
      "174M1A0546\n",
      "174M1A0547\n",
      "174M1A0548\n",
      "174M1A0549\n",
      "174M1A0550\n",
      "174M1A0551\n",
      "174M1A0552\n",
      "174M1A0553\n",
      "174M1A0554\n",
      "174M1A0555\n",
      "174M1A0556\n",
      "174M1A0557\n",
      "174M1A0558\n",
      "174M1A0559\n"
     ]
    }
   ],
   "source": [
    "k=int(input())\n",
    "m=int(input())\n",
    "#s=int(input())\n",
    "for nn in range(k,m):\n",
    "    print(end=\"\")\n",
    "    print(\"174M1A0%d\"%nn)"
   ]
  },
  {
   "cell_type": "code",
   "execution_count": 109,
   "metadata": {},
   "outputs": [
    {
     "name": "stdout",
     "output_type": "stream",
     "text": [
      "20\n",
      "174M1A0500 184M1A0500\n",
      "174M1A0501 184M1A0501\n",
      "174M1A0502 184M1A0502\n",
      "174M1A0503 184M1A0503\n",
      "174M1A0504 184M1A0504\n",
      "174M1A0505 184M1A0505\n",
      "174M1A0506 184M1A0506\n",
      "174M1A0507 184M1A0507\n",
      "174M1A0508 184M1A0508\n",
      "174M1A0509 184M1A0509\n",
      "174M1A0510 184M1A0510\n",
      "174M1A0511 184M1A0511\n",
      "174M1A0512 184M1A0512\n",
      "174M1A0513 184M1A0513\n",
      "174M1A0514 184M1A0514\n",
      "174M1A0515 184M1A0515\n",
      "174M1A0516 184M1A0516\n",
      "174M1A0517 184M1A0517\n",
      "174M1A0518 184M1A0518\n",
      "174M1A0519 184M1A0519\n",
      "174M1A0520 184M1A0520\n"
     ]
    }
   ],
   "source": [
    "n=int(input())\n",
    "for k in range(n+1):\n",
    "    if k<=9:\n",
    "        print(\"174M1A050%d 184M1A050%d\"%(k,k))\n",
    "    else:\n",
    "        print(\"174M1A05%d 184M1A05%d\"%(k,k))"
   ]
  },
  {
   "cell_type": "code",
   "execution_count": 129,
   "metadata": {},
   "outputs": [
    {
     "name": "stdout",
     "output_type": "stream",
     "text": [
      "1\n",
      "10\n",
      "Even numbers are :2,4,6,8,10\n",
      "Odd numbers are :1,3,5,7,9\n",
      " Sum of Even numbers are: 20\n",
      "\n",
      " Sum of Odd numbers are: 25\n",
      "\n",
      " Even digits Count: 4\n",
      "\n",
      " Odd digits Count: 5\n"
     ]
    }
   ],
   "source": [
    "st=int(input())\n",
    "en=int(input())\n",
    "es=os=ec=oc=0\n",
    "print(\"Even numbers are :\",end=\"\")\n",
    "for i in range(st,en+1):\n",
    "    if i%2==0:\n",
    "        if en==i:\n",
    "            print(i,end=\"\")\n",
    "        else:\n",
    "            print(i,end=\",\")\n",
    "            es+=i\n",
    "            ec+=1\n",
    "print(\"\\nOdd numbers are :\",end=\"\")\n",
    "for j in range(st,en):\n",
    "    if j%2!=0:\n",
    "        if en-1==j:\n",
    "            print(j,end=\"\")\n",
    "        else:\n",
    "            print(j,end=\",\")\n",
    "        os+=j\n",
    "        oc+=1\n",
    "print(\"\\n Sum of Even numbers are: {}\".format(es))\n",
    "print(\"\\n Sum of Odd numbers are: {}\".format(os))\n",
    "print(\"\\n Even digits Count: {}\".format(ec))\n",
    "print(\"\\n Odd digits Count: {}\".format(oc))"
   ]
  },
  {
   "cell_type": "markdown",
   "metadata": {},
   "source": [
    "# While\n",
    "\n",
    "    Syntax:\n",
    "         initialization\n",
    "         while(condition):\n",
    "         //stats\n",
    "         inc/dec"
   ]
  },
  {
   "cell_type": "code",
   "execution_count": 132,
   "metadata": {},
   "outputs": [
    {
     "name": "stdout",
     "output_type": "stream",
     "text": [
      "1234\n",
      "Given Number is: 1234\n",
      "Digit count is: 4\n"
     ]
    }
   ],
   "source": [
    "m=int(input())\n",
    "t=m\n",
    "c=0\n",
    "while m!=0:\n",
    "    m=m//10\n",
    "    c+=1\n",
    "print(\"Given Number is: {}\\nDigit count is: {}\".format(t,c))"
   ]
  }
 ],
 "metadata": {
  "kernelspec": {
   "display_name": "Python 3",
   "language": "python",
   "name": "python3"
  },
  "language_info": {
   "codemirror_mode": {
    "name": "ipython",
    "version": 3
   },
   "file_extension": ".py",
   "mimetype": "text/x-python",
   "name": "python",
   "nbconvert_exporter": "python",
   "pygments_lexer": "ipython3",
   "version": "3.7.3"
  }
 },
 "nbformat": 4,
 "nbformat_minor": 2
}
